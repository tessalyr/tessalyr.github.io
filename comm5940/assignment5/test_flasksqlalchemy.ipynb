{
 "cells": [
  {
   "cell_type": "code",
   "execution_count": 2,
   "metadata": {},
   "outputs": [],
   "source": [
    "import pymysql\n",
    "pymysql.install_as_MySQLdb()"
   ]
  },
  {
   "cell_type": "code",
   "execution_count": 3,
   "metadata": {},
   "outputs": [],
   "source": [
    "from princess_model import *"
   ]
  },
  {
   "cell_type": "code",
   "execution_count": 4,
   "metadata": {
    "scrolled": true
   },
   "outputs": [
    {
     "name": "stdout",
     "output_type": "stream",
     "text": [
      "(1, 'Snow White2', '白雪公主', 'Official', 'Human', 'Snow White and the Seven Dwarfs (1937)', 'https://funmoneymom.com/wp-content/uploads/2018/09/snow-white-e1537975169882.jpeg')\n",
      "(2, 'Cinderella', '仙杜瑞拉', 'Official', 'Human', 'Cinderella (1950)', 'https://funmoneymom.com/wp-content/uploads/2018/09/Cinderella.jpg')\n",
      "(3, 'Aurora', '奥罗拉', 'Official', 'Human', 'Sleeping Beauty (1959)', 'https://funmoneymom.com/wp-content/uploads/2018/09/Aurora.jpg')\n",
      "(4, 'Ariel', '爱丽儿', 'Official', 'Mermaid', 'The Little Mermaid (1989)', 'https://funmoneymom.com/wp-content/uploads/2018/09/Ariel-e1537975034404.jpeg')\n",
      "(5, 'Belle', '贝儿', 'Official', 'Human', 'Beauty and the Beast (1991)', 'https://funmoneymom.com/wp-content/uploads/2018/09/Belle-e1537975077685.jpeg')\n",
      "(6, 'Jasmine', '茉莉', 'Official', 'Human', 'Aladdin (1992)', 'https://funmoneymom.com/wp-content/uploads/2018/09/Jasmine.jpg')\n",
      "(7, 'Pocahontas', '宝嘉康蒂', 'Official', 'Human', 'Pocahontas (1995)', 'https://funmoneymom.com/wp-content/uploads/2018/09/Pocahontas.jpg')\n",
      "(8, 'Mulan', '花木兰', 'Official', 'Human', 'Mulan (1998)', 'https://funmoneymom.com/wp-content/uploads/2018/09/Mulan-500x280.jpeg')\n",
      "(9, 'Tiana', '蒂安娜', 'Official', 'Human', 'The Princess and the Frog (2009)', 'https://funmoneymom.com/wp-content/uploads/2018/09/Tiana.jpg')\n",
      "(10, 'Rapunzel', '乐佩', 'Official', 'Human', 'Tangled (2010)', 'https://funmoneymom.com/wp-content/uploads/2018/09/Rapunzel.jpg')\n",
      "(11, 'Merida', '梅莉达', 'Official', 'Human', 'Brave (2012)', 'https://funmoneymom.com/wp-content/uploads/2018/09/Merida.jpg')\n",
      "(12, 'Moana', '莫娜', 'Official', 'Human', 'Moana (2016)', 'https://i.ytimg.com/vi/S0gfg1Nm9GU/maxresdefault.jpg')\n",
      "(13, 'Minnie Mouse', '米妮老鼠', 'Unofficial', 'Mouse', 'Steamboat Willie (1928)', 'https://dl.airtable.com/.attachmentThumbnails/4474d0b6c72c95cef71555380c116444/d15f8ca6')\n",
      "(14, 'Tinker Bell', '叮当小仙女', 'Unofficial', 'Fairy', 'Dumbo (1941)', 'https://dl.airtable.com/.attachmentThumbnails/bd94cdd6a09d6cd5661406c04ca9fe15/9785be95')\n",
      "(15, 'Faline', '费琳', 'Unofficial', 'Deer', 'Bambi (1942)', 'https://dl.airtable.com/.attachmentThumbnails/a4ff94083f6cff4c25b67728168e8204/0cee0e17')\n",
      "(16, 'Alice', '爱丽丝', 'Unofficial', 'Human', 'Alice in Wonderland (1951)', 'https://dl.airtable.com/.attachmentThumbnails/693b74733c240589a6e7889ba49e97ba/ca6a8184')\n",
      "(17, 'Maid Marian', '玛丽安小姐', 'Unofficial', 'Fox', 'Robin Hood (1973)', 'https://dl.airtable.com/.attachmentThumbnails/366c747b7739f5b7b2331367931bf455/292cb549')\n",
      "(18, 'Megara', '梅格拉', 'Unofficial', 'Human', 'Hercules (1997)', 'https://dl.airtable.com/.attachmentThumbnails/92f28a82129e7a83b2b8bfbb7d0dda4a/fb862525')\n",
      "(19, 'Kiara', '琪拉雅', 'Unofficial', 'Lion', \"The Lion King II: Simba's Pride (1998)\", 'https://dl.airtable.com/.attachmentThumbnails/ed8d4f9a64afbeaf07ecadbae773c037/0a917c98')\n",
      "(20, 'Jane Porter', '简·波特', 'Unofficial', 'Human', 'Tarzan (1999)', 'https://dl.airtable.com/.attachmentThumbnails/c0e11ba9044d25e17a4e1c3d516b9c88/3aa591da')\n",
      "(21, 'Lilo', '莉萝', 'Unofficial', 'Human', 'Lilo & Stitch (2002)', 'https://dl.airtable.com/.attachmentThumbnails/c5d4095f7060cd4a69b3b11bec6e2e99/63c9b00f')\n",
      "(22, 'Vanellope von Schweetz', '云妮洛普', 'Unofficial', 'Human', 'Wreck-It Ralph (2012)', 'https://dl.airtable.com/.attachmentThumbnails/099be86834ea90221703c50931017ff0/acd489df')\n",
      "(23, 'Elsa', '爱莎', 'Unofficial', 'Human', 'Frozen (2013)', 'https://dl.airtable.com/.attachmentThumbnails/885f310368231c0fc9ba44ee9e0be280/b298e059')\n",
      "(24, 'Anna', '安娜', 'Unofficial', 'Human', 'Frozen (2013)', 'https://dl.airtable.com/.attachmentThumbnails/f1df9aa293432da5d2d86a6ce28455bd/cfa6fe3d')\n",
      "(26, 'kiyomi', '小可爱', 'Official', 'Human', 'Kiyomi', None)\n",
      "(27, 'kiyomi', '小可爱', 'Official', 'Human', 'Kiyomi', None)\n"
     ]
    }
   ],
   "source": [
    "result = db.engine.execute('select * from princesses')\n",
    "for i in result:\n",
    "    print(i)\n"
   ]
  },
  {
   "cell_type": "code",
   "execution_count": 5,
   "metadata": {},
   "outputs": [
    {
     "name": "stdout",
     "output_type": "stream",
     "text": [
      "[{'princessID': 1, 'name': 'Snow White2', 'chinesename': '白雪公主', 'status': 'Official', 'species': 'Human', 'animation': 'Snow White and the Seven Dwarfs (1937)'}, {'princessID': 2, 'name': 'Cinderella', 'chinesename': '仙杜瑞拉', 'status': 'Official', 'species': 'Human', 'animation': 'Cinderella (1950)'}, {'princessID': 3, 'name': 'Aurora', 'chinesename': '奥罗拉', 'status': 'Official', 'species': 'Human', 'animation': 'Sleeping Beauty (1959)'}, {'princessID': 4, 'name': 'Ariel', 'chinesename': '爱丽儿', 'status': 'Official', 'species': 'Mermaid', 'animation': 'The Little Mermaid (1989)'}, {'princessID': 5, 'name': 'Belle', 'chinesename': '贝儿', 'status': 'Official', 'species': 'Human', 'animation': 'Beauty and the Beast (1991)'}, {'princessID': 6, 'name': 'Jasmine', 'chinesename': '茉莉', 'status': 'Official', 'species': 'Human', 'animation': 'Aladdin (1992)'}, {'princessID': 7, 'name': 'Pocahontas', 'chinesename': '宝嘉康蒂', 'status': 'Official', 'species': 'Human', 'animation': 'Pocahontas (1995)'}, {'princessID': 8, 'name': 'Mulan', 'chinesename': '花木兰', 'status': 'Official', 'species': 'Human', 'animation': 'Mulan (1998)'}, {'princessID': 9, 'name': 'Tiana', 'chinesename': '蒂安娜', 'status': 'Official', 'species': 'Human', 'animation': 'The Princess and the Frog (2009)'}, {'princessID': 10, 'name': 'Rapunzel', 'chinesename': '乐佩', 'status': 'Official', 'species': 'Human', 'animation': 'Tangled (2010)'}, {'princessID': 11, 'name': 'Merida', 'chinesename': '梅莉达', 'status': 'Official', 'species': 'Human', 'animation': 'Brave (2012)'}, {'princessID': 12, 'name': 'Moana', 'chinesename': '莫娜', 'status': 'Official', 'species': 'Human', 'animation': 'Moana (2016)'}, {'princessID': 13, 'name': 'Minnie Mouse', 'chinesename': '米妮老鼠', 'status': 'Unofficial', 'species': 'Mouse', 'animation': 'Steamboat Willie (1928)'}, {'princessID': 14, 'name': 'Tinker Bell', 'chinesename': '叮当小仙女', 'status': 'Unofficial', 'species': 'Fairy', 'animation': 'Dumbo (1941)'}, {'princessID': 15, 'name': 'Faline', 'chinesename': '费琳', 'status': 'Unofficial', 'species': 'Deer', 'animation': 'Bambi (1942)'}, {'princessID': 16, 'name': 'Alice', 'chinesename': '爱丽丝', 'status': 'Unofficial', 'species': 'Human', 'animation': 'Alice in Wonderland (1951)'}, {'princessID': 17, 'name': 'Maid Marian', 'chinesename': '玛丽安小姐', 'status': 'Unofficial', 'species': 'Fox', 'animation': 'Robin Hood (1973)'}, {'princessID': 18, 'name': 'Megara', 'chinesename': '梅格拉', 'status': 'Unofficial', 'species': 'Human', 'animation': 'Hercules (1997)'}, {'princessID': 19, 'name': 'Kiara', 'chinesename': '琪拉雅', 'status': 'Unofficial', 'species': 'Lion', 'animation': \"The Lion King II: Simba's Pride (1998)\"}, {'princessID': 20, 'name': 'Jane Porter', 'chinesename': '简·波特', 'status': 'Unofficial', 'species': 'Human', 'animation': 'Tarzan (1999)'}, {'princessID': 21, 'name': 'Lilo', 'chinesename': '莉萝', 'status': 'Unofficial', 'species': 'Human', 'animation': 'Lilo & Stitch (2002)'}, {'princessID': 22, 'name': 'Vanellope von Schweetz', 'chinesename': '云妮洛普', 'status': 'Unofficial', 'species': 'Human', 'animation': 'Wreck-It Ralph (2012)'}, {'princessID': 23, 'name': 'Elsa', 'chinesename': '爱莎', 'status': 'Unofficial', 'species': 'Human', 'animation': 'Frozen (2013)'}, {'princessID': 24, 'name': 'Anna', 'chinesename': '安娜', 'status': 'Unofficial', 'species': 'Human', 'animation': 'Frozen (2013)'}, {'princessID': 26, 'name': 'kiyomi', 'chinesename': '小可爱', 'status': 'Official', 'species': 'Human', 'animation': 'Kiyomi'}, {'princessID': 27, 'name': 'kiyomi', 'chinesename': '小可爱', 'status': 'Official', 'species': 'Human', 'animation': 'Kiyomi'}]\n"
     ]
    }
   ],
   "source": [
    "result = db.engine.execute('select * from princesses')\n",
    "final_result = [list(i) for i in result]\n",
    "dataset=[]\n",
    "dict={}\n",
    "for i in final_result:\n",
    "    dict['princessID'] = i[0]\n",
    "    dict['name'] = i[1]\n",
    "    dict['chinesename'] = i[2]\n",
    "    dict['status'] = i[3]\n",
    "    dict['species'] = i[4]\n",
    "    dict['animation'] = i[5]\n",
    "    # print(i)\n",
    "    # print(dict)\n",
    "    dataset.append(dict.copy()) #markers.append(fld.copy())\n",
    "print(dataset)"
   ]
  },
  {
   "cell_type": "code",
   "execution_count": 6,
   "metadata": {},
   "outputs": [],
   "source": [
    "# Update Example\n",
    "pid = 1 \n",
    "princesses = Princesses.query.filter_by(princessID=pid).first()\n",
    "princesses.name = \"Snow White2\"\n",
    "db.session.commit()"
   ]
  },
  {
   "cell_type": "code",
   "execution_count": 7,
   "metadata": {},
   "outputs": [],
   "source": [
    "# Insert Example\n",
    "princess = Princesses(name='kiyomi',chinesename=\"小可爱\",status=\"Official\",species=\"Human\",animation=\"Kiyomi\")\n",
    "db.session.add(princess)\n",
    "db.session.commit()"
   ]
  },
  {
   "cell_type": "code",
   "execution_count": 8,
   "metadata": {},
   "outputs": [],
   "source": [
    "# Delete Example\n",
    "pid = 27\n",
    "princess = Princesses.query.filter_by(princessID=pid).first()\n",
    "db.session.delete(princess)\n",
    "db.session.commit()"
   ]
  },
  {
   "cell_type": "code",
   "execution_count": null,
   "metadata": {},
   "outputs": [],
   "source": []
  }
 ],
 "metadata": {
  "kernelspec": {
   "display_name": "Python 3",
   "language": "python",
   "name": "python3"
  },
  "language_info": {
   "codemirror_mode": {
    "name": "ipython",
    "version": 3
   },
   "file_extension": ".py",
   "mimetype": "text/x-python",
   "name": "python",
   "nbconvert_exporter": "python",
   "pygments_lexer": "ipython3",
   "version": "3.7.4"
  }
 },
 "nbformat": 4,
 "nbformat_minor": 2
}
